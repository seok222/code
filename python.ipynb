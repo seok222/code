{
  "cells": [
    {
      "cell_type": "code",
      "execution_count": 2,
      "metadata": {
        "id": "n0FtPEvlnWd0"
      },
      "outputs": [
        {
          "name": "stdout",
          "output_type": "stream",
          "text": [
            "700\n",
            "500\n",
            "400\n",
            "600\n",
            "800\n",
            "600\n",
            "700\n",
            "900\n",
            "8\n",
            "100\n",
            "800\n",
            "[100, 200, 300]\n",
            "[200, 300, 400, 500]\n",
            "[800, 700, 600, 500]\n",
            "[400, 500, 600, 700]\n"
          ]
        }
      ],
      "source": [
        "#7-1 다음과 같이 파이썬 프로그램을 실행 할적에 ,다음 밑줄 안에 들어갈 알맞은 결과는 무엇인가?\n",
        "#미리 예측해본후 실행시켜보고 그 결과를 적으시오 \n",
        "\n",
        "num_list =[100,200,300,400,500,600,700,800]\n",
        "high =6\n",
        "low = 3\n",
        "\n",
        "print(num_list[high]) # list[index]\n",
        "print(num_list[high-2]) \n",
        "print(num_list[high-low])\n",
        "print(num_list[low-high])\n",
        "print(num_list[-1]) \n",
        "print(num_list[-low])\n",
        "print(num_list[2*3])\n",
        "print(num_list[2]*3)\n",
        "print(len(num_list)) # 리스트의 길이\n",
        "print(min(num_list)) # 최소값\n",
        "print(max(num_list)) # 최대값\n",
        "print(num_list[:3])\n",
        "print(num_list[1:5])\n",
        "print(num_list[-1:-5:-1])\n",
        "print(num_list[-5:-1:1])    \n"
      ]
    },
    {
      "cell_type": "code",
      "execution_count": 7,
      "metadata": {
        "id": "SNuV8qcf1CmT"
      },
      "outputs": [
        {
          "name": "stdout",
          "output_type": "stream",
          "text": [
            "3 * 2 = 6\n",
            "3 * 3 = 9\n",
            "3 * 4 = 12\n",
            "3 * 5 = 15\n",
            "3 * 6 = 18\n",
            "5 * 2 = 10\n",
            "5 * 3 = 15\n",
            "5 * 4 = 20\n",
            "5 * 5 = 25\n",
            "5 * 6 = 30\n",
            "7 * 2 = 14\n",
            "7 * 3 = 21\n",
            "7 * 4 = 28\n",
            "7 * 5 = 35\n",
            "7 * 6 = 42\n"
          ]
        }
      ],
      "source": [
        "# 7-2 다음과 같은 list 1, list2 있을 경우 이중 for 루프를 사용하여 list1 과\n",
        "# list2의 각 원소를 곱한 후 원소의 곱셈을 아래와 같이 출력하시오\n",
        "list1 = [3,5,7]\n",
        "list2 = [2,3,4,5,6]\n",
        "for x in list1:\n",
        "    for y in list2:\n",
        "        plus = x * y\n",
        "        print(x, \"*\",y, \"=\", plus)\n"
      ]
    },
    {
      "cell_type": "code",
      "execution_count": 8,
      "metadata": {},
      "outputs": [
        {
          "name": "stdout",
          "output_type": "stream",
          "text": [
            "I like panckes.\n",
            "I like kiwi juice.\n",
            "I like erpreddo.\n",
            "I love panckes.\n",
            "I love kiwi juice.\n",
            "I love erpreddo.\n"
          ]
        }
      ],
      "source": [
        "    #7-3 다음과 같은 문자열을 가진 두개의 리스트 list1,list2가 있을 경우 \n",
        "        #list1과 list2 의 모든 조합을 생성하여 다음과 같이 출력하시오\n",
        "list1 = [\"I like\", \"I love\"]\n",
        "list2 = [\"panckes.\",\"kiwi juice.\", \"erpreddo.\"]\n",
        "for a_str in list1:\n",
        "    for b_str in list2:\n",
        "        print(a_str, b_str)"
      ]
    },
    {
      "cell_type": "code",
      "execution_count": null,
      "metadata": {},
      "outputs": [],
      "source": [
        "# 7-4 다음의 코드에서 잘못된 부분은무엇인가? 어떤이유에서 오류가 발생하는지 설명하여라\n",
        "\n",
        "t= (10,20,30,40) # 소괄호는 튜플 형식. 튜플은 불변속성으로 원소를 조직할 수 없다\n",
        "t. append (50)\n",
        "t. remove (40)\n",
        "t［0］=0\n",
        "# 수정\n",
        "t= [10,20,30,40]\n",
        "t. append (50)\n",
        "print(t)\n",
        "t.remove(40）\n",
        "print (t)\n",
        "t[0] = 0\n",
        "print(t)"
      ]
    },
    {
      "cell_type": "code",
      "execution_count": 16,
      "metadata": {},
      "outputs": [
        {
          "name": "stdout",
          "output_type": "stream",
          "text": [
            "['A1', 'A2', 'B1', 'B2', 'C1', 'C2']\n"
          ]
        }
      ],
      "source": [
        "# 7.5 ('A', 'B','C') 튜플과 ('1','2')을 조합하여 다음과 같은 공연정의 좌석번호를 생성하는 프로그램을 작성하여라, \n",
        "#이때 ('1','2') 대신 점수로 이루어진 튜플 (1, 2)가 있을 경우 동일한 결과가 나타나도록 다시 프로그램을 작성하여라\n",
        "seat=(\"A\",\"B\",\"C\")\n",
        "num_str = (\"1\",\"2\")\n",
        "num_int = (1,2)\n",
        "seat_list = []\n",
        "for seet_str in seat:\n",
        "    # for seat num In mum str：\n",
        "    for seat_num in num_int:\n",
        "        seat_num= str(seat_num) # 형변환\n",
        "        seat_list.append(seet_str+seat_num)\n",
        "print (seat_list)"
      ]
    },
    {
      "cell_type": "code",
      "execution_count": 3,
      "metadata": {},
      "outputs": [
        {
          "name": "stdout",
          "output_type": "stream",
          "text": [
            "p\n",
            "py\n",
            "pyt\n",
            "pyth\n",
            "pytho\n",
            "python\n",
            "pytho\n",
            "pyth\n",
            "pyt\n",
            "py\n",
            "p\n"
          ]
        }
      ],
      "source": [
        "# 7-6 사용자로 부터 임의의 문자열을 입력으로 받은 후 \n",
        "#이 문자열에 대하여 다음과 같은 피라미드 패턴을 만 들어 출력하는 프로그램을 작성하여라. \n",
        "#이때 파이썬의 문자열 슬라이싱 기능을 사용하도록 하여라.\n",
        "str_input = input(\"문자열을 입력하세요:\")\n",
        "for i in range(len(str_input)):\n",
        "    print(str_input[0:i+1])\n",
        "for j in range(len(str_input)-1):\n",
        "    print(str_input[-6:-j-1])\n"
      ]
    },
    {
      "cell_type": "code",
      "execution_count": 9,
      "metadata": {},
      "outputs": [
        {
          "name": "stdout",
          "output_type": "stream",
          "text": [
            "가장 길이가 긴 문자열: banana orange \n",
            "['kiwi', 'apple', 'melon']\n",
            "banana : 문자열의 길이 6\n",
            "orange : 문자열의 길이 6\n",
            "kiwi : 문자열의 길이 4\n",
            "apple : 문자열의 길이 5\n",
            "melon : 문자열의 길이 5\n"
          ]
        }
      ],
      "source": [
        "#7-7\n",
        "fruit_list = [\"banana\", \"orange\", \"kiwi\", \"apple\", \"melon\"]\n",
        "max = 0\n",
        "max_list = []\n",
        "\n",
        "\n",
        "for long in fruit_list: # 문자열의 최대 길이 찾기\n",
        "    if max < len (long):\n",
        "         max = len(long)\n",
        "print(\"가장 길이가 긴 문자열:\" , end=\" \")\n",
        "for same in range(len(fruit_list)): # 최대 길이를 가지고 있는 문자열 모두 찾기\n",
        "    if max == len(fruit_list[same]):\n",
        "        print(fruit_list[same], end=\" \")\n",
        "        max_list.append(same) # 삭제한 인덱스 번호 저장\n",
        "for i in range(len(max_list)): \n",
        "    fruit_list.pop(max_list[-i-1])\n",
        "print(\"\")\n",
        "print (fruit_list)\n",
        "fruit_list_2 = [\"banana\", \"orange\", \"kiwi\", \"apple\", \"melon\"]\n",
        "for str_lengh in fruit_list_2:\n",
        "    print(str_lengh, \": 문자열의 길이\", len(str_lengh))"
      ]
    },
    {
      "cell_type": "code",
      "execution_count": 15,
      "metadata": {},
      "outputs": [
        {
          "name": "stdout",
          "output_type": "stream",
          "text": [
            "  1  2  3  4  5\n",
            " 10  6  7  8  9\n",
            " 11 12 13 14 15\n",
            " 20 16 17 18 19\n",
            " 21 22 23 24 25\n"
          ]
        },
        {
          "ename": "ValueError",
          "evalue": "invalid literal for int() with base 10: ''",
          "output_type": "error",
          "traceback": [
            "\u001b[1;31m---------------------------------------------------------------------------\u001b[0m",
            "\u001b[1;31mValueError\u001b[0m                                Traceback (most recent call last)",
            "\u001b[1;32mC:\\Users\\Public\\Documents\\ESTsoft\\CreatorTemp/ipykernel_12080/3155625325.py\u001b[0m in \u001b[0;36m<module>\u001b[1;34m\u001b[0m\n\u001b[0;32m      1\u001b[0m \u001b[1;31m#7-8\u001b[0m\u001b[1;33m\u001b[0m\u001b[1;33m\u001b[0m\u001b[0m\n\u001b[0;32m      2\u001b[0m \u001b[1;32mwhile\u001b[0m\u001b[1;33m(\u001b[0m\u001b[1;32mTrue\u001b[0m\u001b[1;33m)\u001b[0m\u001b[1;33m:\u001b[0m\u001b[1;33m\u001b[0m\u001b[1;33m\u001b[0m\u001b[0m\n\u001b[1;32m----> 3\u001b[1;33m     \u001b[0mn\u001b[0m\u001b[1;33m=\u001b[0m \u001b[0mint\u001b[0m\u001b[1;33m(\u001b[0m\u001b[0minput\u001b[0m\u001b[1;33m(\u001b[0m\u001b[1;34m\"n을입력하세요: \"\u001b[0m\u001b[1;33m)\u001b[0m\u001b[1;33m)\u001b[0m\u001b[1;33m\u001b[0m\u001b[1;33m\u001b[0m\u001b[0m\n\u001b[0m\u001b[0;32m      4\u001b[0m     \u001b[1;32mif\u001b[0m\u001b[1;33m(\u001b[0m\u001b[1;36m1\u001b[0m\u001b[1;33m>\u001b[0m \u001b[0mn\u001b[0m \u001b[1;32mor\u001b[0m \u001b[0mn\u001b[0m\u001b[1;33m>\u001b[0m\u001b[1;36m10\u001b[0m\u001b[1;33m)\u001b[0m\u001b[1;33m:\u001b[0m\u001b[1;33m\u001b[0m\u001b[1;33m\u001b[0m\u001b[0m\n\u001b[0;32m      5\u001b[0m         \u001b[0mprint\u001b[0m\u001b[1;33m(\u001b[0m\u001b[1;34m\"1~10 사이 정수를 입력하세요\"\u001b[0m\u001b[1;33m)\u001b[0m\u001b[1;33m\u001b[0m\u001b[1;33m\u001b[0m\u001b[0m\n",
            "\u001b[1;31mValueError\u001b[0m: invalid literal for int() with base 10: ''"
          ]
        }
      ],
      "source": [
        "#7-8\n",
        "while(True):\n",
        "    n= int(input(\"n을입력하세요: \"))\n",
        "    if(1> n or n>10):\n",
        "        print(\"1~10 사이 정수를 입력하세요\")\n",
        "        break\n",
        "    else:\n",
        "        list1 =[i+1 for i in range(n**2)]\n",
        "        \n",
        "        k =0\n",
        "\n",
        "    for i in range(n):\n",
        "        list2 = list1[k:n*(i+1)]\n",
        "        k += n\n",
        "        for j in range(n):\n",
        "            if(i % 2 ==0):\n",
        "                print(\"{0:3d}\". format (list2[j]), end=\"\")# 짝수 행 증가\n",
        "            else:\n",
        "                print(\"{0:3d}\". format(list2[j-1]), end=\"\")  # 홀수 행 감소\n",
        "        print (\"\")"
      ]
    },
    {
      "cell_type": "code",
      "execution_count": 18,
      "metadata": {},
      "outputs": [
        {
          "name": "stdout",
          "output_type": "stream",
          "text": [
            "deteryoo\n"
          ]
        }
      ],
      "source": [
        "#7-9\n",
        "a = input(\"문자열을 입력하세요: \")\n",
        "b = input(\"문자열을 입력하세요 : \")\n",
        "if len(a) > len(b) :\n",
        "    count = len(b)\n",
        "else :\n",
        "    count = len(a)\n",
        "\n",
        "for i in range(count):\n",
        "    if a[-i-1:] == b[:i+1]:\n",
        "        p= i\n",
        "        break\n",
        "    else :\n",
        "        p = -1\n",
        "print (a+b[p+1:])"
      ]
    },
    {
      "cell_type": "code",
      "execution_count": 20,
      "metadata": {
        "colab": {
          "base_uri": "https://localhost:8080/"
        },
        "id": "4K0yRsJdrGFg",
        "outputId": "4a7d08e9-c9f7-4518-d663-5a7176895751"
      },
      "outputs": [
        {
          "name": "stdout",
          "output_type": "stream",
          "text": [
            "['3000,4000,5000,6000,7000']\n",
            "----------오늘 과일의 가격----------\n",
            "사과 : 3000,4000,5000,6000,7000\n"
          ]
        },
        {
          "ename": "IndexError",
          "evalue": "list index out of range",
          "output_type": "error",
          "traceback": [
            "\u001b[1;31m---------------------------------------------------------------------------\u001b[0m",
            "\u001b[1;31mIndexError\u001b[0m                                Traceback (most recent call last)",
            "\u001b[1;32mC:\\Users\\Public\\Documents\\ESTsoft\\CreatorTemp/ipykernel_12080/2412971106.py\u001b[0m in \u001b[0;36m<module>\u001b[1;34m\u001b[0m\n\u001b[0;32m     11\u001b[0m   \u001b[0mprint\u001b[0m\u001b[1;33m(\u001b[0m\u001b[1;34m\"----------오늘 과일의 가격----------\"\u001b[0m\u001b[1;33m)\u001b[0m\u001b[1;33m\u001b[0m\u001b[1;33m\u001b[0m\u001b[0m\n\u001b[0;32m     12\u001b[0m   \u001b[1;32mfor\u001b[0m \u001b[0mkey\u001b[0m \u001b[1;32min\u001b[0m \u001b[0mfruit_price\u001b[0m\u001b[1;33m.\u001b[0m\u001b[0mkeys\u001b[0m\u001b[1;33m(\u001b[0m\u001b[1;33m)\u001b[0m\u001b[1;33m:\u001b[0m                    \u001b[1;31m#반복문을 통해 fruit_price의 키 들을 key인자에 저장\u001b[0m\u001b[1;33m\u001b[0m\u001b[1;33m\u001b[0m\u001b[0m\n\u001b[1;32m---> 13\u001b[1;33m      \u001b[0mfruit_price\u001b[0m\u001b[1;33m[\u001b[0m\u001b[0mkey\u001b[0m\u001b[1;33m]\u001b[0m\u001b[1;33m=\u001b[0m\u001b[0ma\u001b[0m\u001b[1;33m[\u001b[0m\u001b[0mi\u001b[0m\u001b[1;33m]\u001b[0m                          \u001b[1;31m# a의 인덱스 0번값 부터 순서대로  키:,값을 저장      ex(3000,4500,6000,2400,3400을 순서대로 받았으면)\u001b[0m\u001b[1;33m\u001b[0m\u001b[1;33m\u001b[0m\u001b[0m\n\u001b[0m\u001b[0;32m     14\u001b[0m      \u001b[0mprint\u001b[0m\u001b[1;33m(\u001b[0m\u001b[0mkey\u001b[0m\u001b[1;33m+\u001b[0m\u001b[1;34m\" : \"\u001b[0m\u001b[1;33m+\u001b[0m\u001b[0mfruit_price\u001b[0m\u001b[1;33m[\u001b[0m\u001b[0mkey\u001b[0m\u001b[1;33m]\u001b[0m\u001b[1;33m)\u001b[0m              \u001b[1;31m# 첫번쨰 키인 '사과에' 0번쨰인덱스인 3000원부터 순서대로저장후 출력\u001b[0m\u001b[1;33m\u001b[0m\u001b[1;33m\u001b[0m\u001b[0m\n\u001b[0;32m     15\u001b[0m      \u001b[0mi\u001b[0m\u001b[1;33m+=\u001b[0m\u001b[1;36m1\u001b[0m                                           \u001b[1;31m# 한번 반복할때마다 i 를증가시킴으로써 키(과일의)순서에맞게 값(가격)을저장 하게한다.\u001b[0m\u001b[1;33m\u001b[0m\u001b[1;33m\u001b[0m\u001b[0m\n",
            "\u001b[1;31mIndexError\u001b[0m: list index out of range"
          ]
        }
      ],
      "source": [
        "#8-1\n",
        "while True:\n",
        "  a=[]\n",
        "  fruit_price={'사과':0,'배':0,'수박':0,'귤':0,'포도':0}\n",
        "  a=input(\"사과 ,배, 수박 , 귤 , 포도 \").split(' ')         # a의 값을 입력받아 리스트에 저장 \n",
        "  i=0\n",
        "  print(a)      \n",
        "  if a[0]==\"마감\":           #입력받은 값이 마감일경우 break를통해 반복종료 \n",
        "    print(\"실행종료\")\n",
        "    break  \n",
        "  print(\"----------오늘 과일의 가격----------\")\n",
        "  for key in fruit_price.keys():                    #반복문을 통해 fruit_price의 키 들을 key인자에 저장 \n",
        "     fruit_price[key]=a[i]                          # a의 인덱스 0번값 부터 순서대로  키:,값을 저장      ex(3000,4500,6000,2400,3400을 순서대로 받았으면)\n",
        "     print(key+\" : \"+fruit_price[key])              # 첫번쨰 키인 '사과에' 0번쨰인덱스인 3000원부터 순서대로저장후 출력\n",
        "     i+=1                                           # 한번 반복할때마다 i 를증가시킴으로써 키(과일의)순서에맞게 값(가격)을저장 하게한다.\n",
        "  i=0\n",
        "\n",
        "  for key in fruit_price.keys():        # 반복문이 끝나면 i=0으로 초기화시킨후 \n",
        "     fruit_price[key]=0                 # 다음날 장사를 위해 키의 값들을 모두 0으로 초기화 \n",
        "\n",
        "\n",
        "  \n"
      ]
    },
    {
      "cell_type": "code",
      "execution_count": 22,
      "metadata": {
        "colab": {
          "base_uri": "https://localhost:8080/"
        },
        "id": "RqEolZxlJC_h",
        "outputId": "5b217d18-3402-41a4-edc3-48f6bd4e71dd"
      },
      "outputs": [
        {
          "name": "stdout",
          "output_type": "stream",
          "text": [
            "오늘의 사과 가격은 3000 원입니다\n"
          ]
        }
      ],
      "source": [
        "#8-2\n",
        "fruit_price={'사과':3000,'배':4500,'수박':6000,'귤':2400,'포도':3400}\n",
        "count=0\n",
        "fruit=input(\"구매를 원하는 과일의 이름을 입력하시오:\")\n",
        "for key in fruit_price.keys():\n",
        "  if key==fruit:\n",
        "    count+=1                  #만약 입력받은 fruit이  friut_price(딕셔너리의)키 와 일치한다면 count를 1증가시킨다\n",
        "if count==0:                  # 증가시킴으로써 없는과일 (딕셔너리에) 없는 키 가 들어온다면 \n",
        "  print(\"그과일은 없습니다\")  # print구문을 출력시킨다 .\n",
        "else:\n",
        "    print(\"오늘의\",fruit,'가격은',fruit_price[fruit],'원입니다')"
      ]
    },
    {
      "cell_type": "code",
      "execution_count": null,
      "metadata": {
        "colab": {
          "base_uri": "https://localhost:8080/"
        },
        "id": "MJUojolf9NaK",
        "outputId": "af4f49c7-5c43-4d9a-b7b9-b7bd4eaed199"
      },
      "outputs": [
        {
          "name": "stdout",
          "output_type": "stream",
          "text": [
            "학생의 정보 목록\n",
            "{' 211101 ' :  ['최성훈', '010-1234-4500'] }\n",
            "{' 211102 ' :  ['김은지', '010-2230-6540'] }\n"
          ]
        }
      ],
      "source": [
        " #8.3-1\n",
        "student_tup=(('211101','최성훈','010-1234-4500'),('211102','김은지','010-2230-6540',('211103','윤소정','010-3232-7788')))\n",
        "student_tup[0][0]\n",
        "student_dic={}\n",
        "for i in range(len(student_tup)):\n",
        "  student_dic[student_tup[i][0]]=[student_tup[i][1],student_tup[i][2]]\n",
        "print('학생의 정보 목록')\n",
        "for key in student_dic.keys():\n",
        "  print(\"{'\",key,\"' : \",student_dic[key],'}')"
      ]
    },
    {
      "cell_type": "code",
      "execution_count": null,
      "metadata": {
        "colab": {
          "base_uri": "https://localhost:8080/"
        },
        "id": "mIyjQU0-_hOg",
        "outputId": "42ebf635-d005-4761-89c1-60f4edd14f58"
      },
      "outputs": [
        {
          "name": "stdout",
          "output_type": "stream",
          "text": [
            "학번을 입력하세요211103\n",
            "학번을 입력하세요: 211102\n",
            "이름: 김은지\n",
            "연락처: 010-2230-6540\n"
          ]
        }
      ],
      "source": [
        "\n",
        "#8.3-2\n",
        "student_tup=(('211101','최성훈','010-1234-4500'),('211102','김은지','010-2230-6540',('211103','윤소정','010-3232-7788')))\n",
        "student_tup[0][0]\n",
        "student_dic={}\n",
        "count=1\n",
        "for i in range(len(student_tup)):\n",
        "  student_dic[student_tup[i][0]]=[student_tup[i][1],student_tup[i][2]]\n",
        "a=input('학번을 입력하세요')\n",
        "for i in range(len(student_tup)):\n",
        "  if a == student_tup[i][0]:\n",
        "    count=i\n",
        "if count==-1:\n",
        "  print('잘못된 학번입니다.')\n",
        "else:\n",
        "  print('학번을 입력하세요:',student_tup[count][0])\n",
        "  print('이름:',student_tup[count][1])\n",
        "  print('연락처:',student_tup[count][2])\n"
      ]
    },
    {
      "cell_type": "code",
      "execution_count": null,
      "metadata": {
        "colab": {
          "base_uri": "https://localhost:8080/"
        },
        "id": "apPoWmUV_uDN",
        "outputId": "464a6e05-7a8c-4774-d0ec-c56e583b63fb"
      },
      "outputs": [
        {
          "name": "stdout",
          "output_type": "stream",
          "text": [
            "학생의 정보 목록\n",
            "{' 211101 ' :  ['최성훈', '010-1234-4500', 4.3] }\n",
            "{' 211102 ' :  ['김은지', '010-2230-6540', 3.9] }\n"
          ]
        }
      ],
      "source": [
        "#8.3-3\n",
        "student_tup=(('211101','최성훈','010-1234-4500'),('211102','김은지','010-2230-6540',('211103','윤소정','010-3232-7788')))\n",
        "student_tup[0][0]\n",
        "student_dic={}\n",
        "count=1\n",
        "grade=[4.3,3.9,4.25]\n",
        "for i in range(len(student_tup)):\n",
        "  for j in grade:\n",
        "    student_dic[student_tup[i][0]]=[student_tup[i][1],student_tup[i][2],grade[i]]\n",
        "print('학생의 정보 목록')\n",
        "for key in student_dic.keys():\n",
        "  print(\"{'\",key,\"' : \",student_dic[key],'}')"
      ]
    },
    {
      "cell_type": "code",
      "execution_count": null,
      "metadata": {
        "id": "o-9kg4uo_oMV"
      },
      "outputs": [],
      "source": [
        "#8.3-4\n",
        "student_tup=(('211101','최성훈','010-1234-4500'),('211102','김은지','010-2230-6540',('211103','윤소정','010-3232-7788')))\n",
        "student_tup[0][0]\n",
        "student_dic={}\n",
        "count=1\n",
        "grade=[4.3,3.9,4.25]\n",
        "sum=0\n",
        "for i in range(len(student_tup)):\n",
        "  for j in grade:\n",
        "    student_dic[student_tup[i][0]]=[student_tup[i][1],student_tup[i][2],grade[i]]\n",
        "for i in range(len(student_dic)):\n",
        "  sum += grade[i]\n",
        "print(sum/3)"
      ]
    },
    {
      "cell_type": "code",
      "execution_count": null,
      "metadata": {
        "colab": {
          "base_uri": "https://localhost:8080/"
        },
        "id": "X8VP-w8qwBj1",
        "outputId": "9ac674cd-ae7f-4aa6-eb1c-7858f818b9f2"
      },
      "outputs": [
        {
          "name": "stdout",
          "output_type": "stream",
          "text": [
            "[40, 50]\n"
          ]
        }
      ],
      "source": [
        "#8.4-1\n",
        "lst=[10,30,40,50,30,30,20,20,20,10,30]\n",
        "c_10=0\n",
        "c_20=0\n",
        "c_30=0\n",
        "c_40=0\n",
        "c_50=0\n",
        "c=0\n",
        "for i in lst:\n",
        "  if i==10:              # for반복문을통해 들어간 i의 인자들이 아래 조건을 만족하면 \n",
        "    c_10+=1              # counter를 하나씩증가시켜 중복횟수를 알아냄 \n",
        "  elif i==20:\n",
        "    c_20+=1               \n",
        "  elif i==30:\n",
        "    c_30+=1  \n",
        "  elif i==40:\n",
        "    c_40+=1\n",
        "  elif i==50:\n",
        "    c_50+=1\n",
        "n_lst=[]\n",
        "for i in c_10,c_20,c_30,c_40,c_50:\n",
        "  c+=1                 # 반복문이 돌아가면서 i인자에 들어갈떄마다 카운터 1씩증가  ex(c_10 들어가면 c=1 c_20이들어가면 c=2.....)\n",
        "  if i == 1:           # 그후 i의 인자값이 위에 구성된 for문으로 반복횟수를 받아온후 1번만 들어있는인자를 만나면 \n",
        "    n_lst.append(c*10) # 그값에 10을 곱해 lst 의구성된 값으로 표현해준다  ex (c_40과 C_50의 카운터값은= 1)이기때문에 이조건을 만나서 n_lst[]에추가되어서\n",
        "print(n_lst)     #출력된다"
      ]
    },
    {
      "cell_type": "code",
      "execution_count": null,
      "metadata": {
        "colab": {
          "base_uri": "https://localhost:8080/"
        },
        "id": "dUo4Uqc2nDbV",
        "outputId": "6a1493ee-60f9-4293-cd82-7d5627d2d880"
      },
      "outputs": [
        {
          "name": "stdout",
          "output_type": "stream",
          "text": [
            "전체원소: [10, 20, 30, 40, 50]\n"
          ]
        }
      ],
      "source": [
        "#8-4-2\n",
        "last = [10,30,40,50,30,30,20,20,20,10,30]\n",
        "last=list(set(last))                     # 집합은 자동으로 중복된 인자를 제거하기때문에 해 \n",
        "last.sorted()                        #last를 list화한후 set()로  집합화 시킨다                                           \n",
        "print('전체원소:',last)               #그후 sorted() 함수를 통해 정렬된순서대로 항목 출력                                               "
      ]
    },
    {
      "cell_type": "code",
      "execution_count": null,
      "metadata": {
        "colab": {
          "base_uri": "https://localhost:8080/"
        },
        "id": "zQCS36mVprj1",
        "outputId": "b23e4571-efc9-4c0c-bc61-3efb8735087d"
      },
      "outputs": [
        {
          "name": "stdout",
          "output_type": "stream",
          "text": [
            "10 : 2 회\n",
            "20 : 3 회\n",
            "30 : 4 회\n"
          ]
        }
      ],
      "source": [
        "#8-4-3\n",
        "lst  = [10,30,40,50,30,30,20,20,20,10,30]\n",
        "ten = lst.count(10)                            # 각각 리스트에서 몇번 중복되는지알아내기위해 .count()통해 중복횟수를 변수에 저장\n",
        "twenty=lst.count(20)\n",
        "three=lst.count(30)\n",
        "print('10 :', ten,\"회\")                       # 그것을 여기에 출력 \n",
        "print('20 :', twenty,\"회\")\n",
        "print('30 :', three,\"회\")\n",
        "\n"
      ]
    },
    {
      "cell_type": "code",
      "execution_count": 23,
      "metadata": {
        "colab": {
          "base_uri": "https://localhost:8080/",
          "height": 414
        },
        "id": "wiETCmDZ4JA-",
        "outputId": "278f8f57-fa9a-4f4e-8ce4-623f8ded6017"
      },
      "outputs": [
        {
          "name": "stdout",
          "output_type": "stream",
          "text": [
            "사전 프로그램 시작 ... 종료는 q를 입력\n",
            "영어 사전에 있는 단어와 뜻을 출력합니다.\n",
            "영어 사전에 있는 단어와 뜻을 출력합니다.\n",
            "영어 사전에 있는 단어와 뜻을 출력합니다.\n",
            "영어 사전에 있는 단어와 뜻을 출력합니다.\n",
            "영어 사전에 있는 단어와 뜻을 출력합니다.\n"
          ]
        }
      ],
      "source": [
        "#8-5\n",
        "print(\"사전 프로그램 시작 ... 종료는 q를 입력\")\n",
        "dictionary={}\n",
        "while True:\n",
        "  st=input('$')\n",
        "  command = st[0]\n",
        "  if command== '<':\n",
        "    st=st[1:]\n",
        "    inputStr=st.split(':')\n",
        "    if len(inputStr)<2:\n",
        "      print(\"오류발생!\")\n",
        "    else:\n",
        "       dictionary[inputStr[0].strip()]=inputStr[1].strip()\n",
        "  elif command == '>':\n",
        "     st=st[1::]\n",
        "     inputStr=st.strip()\n",
        "     if inputStr in dictionary:\n",
        "         print(\"dictionary[inputStr]\")\n",
        "     else:\n",
        "       print('{}가 사전에 없습니다.'.format(inputStr))\n",
        "  elif command == 'q':\n",
        "      break\n",
        "  elif command == 'v' :\n",
        "        print(\"영어 사전에 있는 단어와 뜻을 출력합니다.\")          \n",
        "        for key in dictionary:\n",
        "          print(\"\")"
      ]
    },
    {
      "cell_type": "code",
      "execution_count": null,
      "metadata": {
        "colab": {
          "base_uri": "https://localhost:8080/"
        },
        "id": "AX73FsTUFx5Y",
        "outputId": "046e6d6f-ac61-4313-9859-396198efd227"
      },
      "outputs": [
        {
          "name": "stdout",
          "output_type": "stream",
          "text": [
            "211101 : 강이안\n",
            "211102 : 박동민\n",
            "211103 : 김수정\n",
            "학번을 입력하세요:211103\n",
            "211103 학생은 김수정 이며 전화번호는 010-123-3333\n"
          ]
        }
      ],
      "source": [
        "#8-6\n",
        "student_tuple=[('211101',\"강이안\",'010-123-1111'),('211102','박동민','010-123-2222'),(\"211103\",'김수정','010-123-3333')]\n",
        "s_dict={}                  \n",
        "for i in range(len(student_tuple)):      # i= 0 1 2                        \n",
        " s_dict[student_tuple[i][0]]=student_tuple[i][1]       # 리스트 i번쨰요소의 인덱스[0]의 요소의 키(학번)에  i번쨰요소의 [1]인덱스의 값(이름)을저장\n",
        "for key in s_dict:    #s_dict={'211011':강이안,'211102':박동민,\"211103\":김수정}              \n",
        "  print(key,':',s_dict[key])     # 딕셔너리의 키에 저장된  값을출력\n",
        "\n",
        "grade_num=input('학번을 입력하세요:')\n",
        "for i in range(len(student_tuple)):    # i = 0 1 2 \n",
        "  if student_tuple[i][0]==grade_num:     #만약 입력받은 학번이 리스트안의[i]번쨰 인덱스의 속한 튜플 인덱스[0]과 항목의 값이랑 같다면\n",
        "    print(grade_num,'학생은',student_tuple[i][1],'이며 전화번호는',student_tuple[i][2])    #이름과 전화번호를 출력합니다.\n",
        "    break       \n",
        "else:\n",
        "    print('잘못된 학번입니다.')\n",
        "    "
      ]
    },
    {
      "cell_type": "code",
      "execution_count": null,
      "metadata": {
        "colab": {
          "base_uri": "https://localhost:8080/"
        },
        "id": "UgGdCIC4-Xg5",
        "outputId": "579ef5c6-1cd7-4b88-ff1d-63690a08b885"
      },
      "outputs": [
        {
          "name": "stdout",
          "output_type": "stream",
          "text": [
            "0\n",
            "1\n",
            "2\n"
          ]
        }
      ],
      "source": []
    }
  ],
  "metadata": {
    "colab": {
      "provenance": []
    },
    "kernelspec": {
      "display_name": "Python 3",
      "name": "python3"
    },
    "language_info": {
      "codemirror_mode": {
        "name": "ipython",
        "version": 3
      },
      "file_extension": ".py",
      "mimetype": "text/x-python",
      "name": "python",
      "nbconvert_exporter": "python",
      "pygments_lexer": "ipython3",
      "version": "3.9.7"
    }
  },
  "nbformat": 4,
  "nbformat_minor": 0
}
